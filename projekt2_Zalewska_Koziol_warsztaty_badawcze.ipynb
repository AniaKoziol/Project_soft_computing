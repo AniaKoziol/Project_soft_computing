{
 "cells": [
  {
   "cell_type": "markdown",
   "metadata": {},
   "source": [
    "## Projekt 2 - warsztaty badawcze 2020\n",
    "\n",
    "### Anna Kozioł, Andżelika Zalewska "
   ]
  },
  {
   "cell_type": "markdown",
   "metadata": {},
   "source": [
    "###  Wstepne przetworzenie danych "
   ]
  },
  {
   "cell_type": "code",
   "execution_count": 2,
   "metadata": {},
   "outputs": [],
   "source": [
    "import pandas as pd\n",
    "import skfuzzy as fuzz\n",
    "from skfuzzy import control as ctrl\n",
    "from collections import Counter\n",
    "import numpy as np\n",
    "from sklearn import preprocessing\n",
    "import matplotlib.pyplot as plt\n",
    "import skfuzzy as fuzz\n",
    "import numpy as np\n",
    "import pandas as pd\n",
    "import matplotlib.pyplot as plt\n",
    "import seaborn as sns\n",
    "import plotly as py\n",
    "import plotly.graph_objs as go\n",
    "import seaborn as sns\n",
    "\n",
    "\n",
    "from copy import deepcopy\n",
    "from skfuzzy import control as ctrl"
   ]
  },
  {
   "cell_type": "code",
   "execution_count": null,
   "metadata": {},
   "outputs": [],
   "source": [
    "\n",
    "df = pd.read_csv('data_BD_2020_04_03_cleaned.csv', decimal=\",\").drop(\"Unnamed: 0\", 1)\n",
    "df = df.fillna(0)\n",
    "df[\"date_day\"] = pd.to_datetime(df[\"date\"])\n",
    "df = df.rename(columns={\"hamd\":\"hamd_sum\",\"yms\":\"yms_sum\"})\n",
    "for column in df.columns[3:-1]:\n",
    "    df[column] = pd.to_numeric(df.loc[:,column])\n",
    "feature_list = ['context_no_day_incoming_calls', 'context_avg_day_duration_incoming',\n",
    "       'context_stddev_duration_incoming', 'context_no_day_outgoing_calls',\n",
    "       'context_avg_day_duration_outgoing', 'context_stddev_duration_outgoing',\n",
    "       'context_no_nottakencalls', 'context_no_sms', 'context_avg_len_sms',\n",
    "       'context_no_calls', 'context_prc_nottakencalls',\n",
    "       'context_prc_out_calls', 'context_avg_duration_calls',\n",
    "       'self_avg_sleep_time', 'self_avg_comment_len_sleep', 'self_avg_feeling',\n",
    "       'self_avg_comment_len_mood', 'self_ismixed',\n",
    "       'context_stddev_duration_calls', 'context_no_all_calls',\n",
    "       'context_distance_nr', 'context_stepnbr']\n",
    "\n",
    "df1 = df[feature_list+['hamd_sum','yms_sum']]\n",
    "for i in df1.columns:\n",
    "    df1[i]=(df1[i]-df1[i].min())/(df1[i].max()-df1[i].min())\n",
    "df2 = pd.concat([df[\"patient_id\"], df1], axis=1)\n",
    "df = df2\n",
    "df.to_csv('dane_przerobione.csv')"
   ]
  },
  {
   "cell_type": "markdown",
   "metadata": {},
   "source": [
    "### Zdefiniowanie i ilistracja zmiennych lingwistycznych\n",
    "\n",
    "Poniżej przykładowa ilustracja dla zmiennej \"context_no_day_incoming_calls\""
   ]
  },
  {
   "cell_type": "code",
   "execution_count": 10,
   "metadata": {},
   "outputs": [],
   "source": [
    "def zmienna_lingwistyczna(zmienna):\n",
    "    d = df[zmienna]\n",
    "    max_for_universe = np.max(d)\n",
    "    min_for_universe = np.min(d)\n",
    "    \n",
    "    kwantyl_0 = d.quantile(0)\n",
    "    kwantyl_025 = d.quantile(0.25)\n",
    "    kwantyl_03 = d.quantile(0.3)\n",
    "    kwantyl_05 = d.quantile(0.5)\n",
    "    kwantyl_07 = d.quantile(0.7)\n",
    "    kwantyl_075 = d.quantile(0.75)\n",
    "    kwantyl_1 = d.quantile(1)\n",
    "    \n",
    "    universe = np.arange(min_for_universe, max_for_universe + 0.1, 0.1)\n",
    "\n",
    "    reg = ctrl.Consequent(universe, \"hh\")\n",
    "    low = fuzz.trapmf(reg.universe, [kwantyl_0, kwantyl_0, kwantyl_03, kwantyl_05])\n",
    "    medium = fuzz.trapmf(reg.universe, [kwantyl_025, kwantyl_03, kwantyl_07, kwantyl_075])\n",
    "    high = fuzz.trapmf(reg.universe, [kwantyl_05, kwantyl_07, kwantyl_1, kwantyl_1])\n",
    "\n",
    "    plt.plot(universe, low)\n",
    "    plt.plot(universe, medium)\n",
    "    plt.plot(universe, high)\n",
    "    plt.title('Zmienne lingwistyczne dla zmiennej '+zmienna)"
   ]
  },
  {
   "cell_type": "code",
   "execution_count": 11,
   "metadata": {},
   "outputs": [
    {
     "data": {
      "image/png": "[encoded data removed]",
      "text/plain": [
       "<Figure size 432x288 with 1 Axes>"
      ]
     },
     "metadata": {
      "needs_background": "light"
     },
     "output_type": "display_data"
    }
   ],
   "source": [
    "zmienna_lingwistyczna('context_no_day_incoming_calls')"
   ]
  },
  {
   "cell_type": "markdown",
   "metadata": {},
   "source": [
    "### 3. Funkcja  generate_short_linguistic_summaries dla LS1"
   ]
  },
  {
   "cell_type": "code",
   "execution_count": 27,
   "metadata": {},
   "outputs": [],
   "source": [
    "def generate_short_linguistic_summaries(nazwa_parametru,ramka, podmiot_podsumowania = None,\n",
    "                                        klasyfikator_pacj = klasyfikator2, klasyfikator_wsk = klasyfikator):\n",
    "    if podmiot_podsumowania == None:\n",
    "        df = ramka.loc[:,nazwa_parametru].dropna()\n",
    "        length = len(df.index)\n",
    "    else:\n",
    "        df = ramka.loc[ramka.patient_id == podmiot_podsumowania, nazwa_parametru].dropna()\n",
    "        length = len(df.index)\n",
    "    wartosci = [\"low\",\"medium\",\"high\"]\n",
    "    wartosci2 = [\"minority\",\"half\",\"majority\"]\n",
    "    powielenia = [wartosci[np.argmax(klasyfikator_wsk(i))] for i in df.values]\n",
    "    zdania = []\n",
    "    powielenia_licznosci = dict(Counter(powielenia))\n",
    "    odsetki = {key: value_length/length for key, value_length in powielenia_licznosci.items()}\n",
    "    wynik = {key : wartosci2[np.argmax(klasyfikator_pacj(value))] for key,value in odsetki.items()}\n",
    "    [zdania.append(\"For the \" + value + \" of patients \" + nazwa_parametru + \" is \" + key +\".\") for key, value in wynik.items()]      \n",
    "    final_df = pd.DataFrame(columns = [\"sentence\",\"degree_of_truth\", \"degree_of_support\"])    \n",
    "    for sentence in zdania:\n",
    "        d = degree_of_truth(sentence,ramka,norm=\"min\")\n",
    "        e = degree_of_support(sentence,ramka,norm=\"min\")\n",
    "        final_df = final_df.append({\"sentence\":sentence,\"degree_of_truth\":d, \"degree_of_support\":e},\n",
    "                                  ignore_index = True)    \n",
    "    \n",
    "    return final_df"
   ]
  },
  {
   "cell_type": "code",
   "execution_count": null,
   "metadata": {},
   "outputs": [],
   "source": []
  },
  {
   "cell_type": "markdown",
   "metadata": {},
   "source": [
    "### Funkcja generate_extended_linguistic_summaries dla LS2"
   ]
  },
  {
   "cell_type": "code",
   "execution_count": 26,
   "metadata": {},
   "outputs": [],
   "source": [
    "def generate_extended_linguistic_summaries(nazwa_parametru,data, podmiot_podsumowania = None,tnorm=\"min\",\n",
    "                                          kwantyfikator_pacj = klasyfikator2, kwantyfikator_wsk = klasyfikator,\n",
    "                                          kwalifikator = klasyfikator ):\n",
    "    if podmiot_podsumowania==None:\n",
    "        df = data.loc[:,nazwa_parametru].dropna()\n",
    "        length = len(df.index)\n",
    "    else:\n",
    "        df = data.loc[data.patient_id == podmiot_podsumowania, nazwa_parametru].dropna()\n",
    "        length = len(df.index)\n",
    "    wartosci = [\"low\",\"medium\",\"high\"]\n",
    "    wartosci2 = [\"minority\",\"half\",\"majority\"]\n",
    "    values = [wartosci[np.argmax(kwantyfikator_wsk(i))] for i in df.values]\n",
    "    zdania = [] \n",
    "    df2 = data.loc[df.index,[nazwa_parametru,\"hamd_sum\",\"yms_sum\"]].reset_index(drop=True)\n",
    "    values_depression =[wartosci[np.argmax(kwalifikator(i))] for i in df2[\"hamd_sum\"].values]\n",
    "    depression = {i : [k for k,l in enumerate(values_depression) if l == i] for i in wartosci}\n",
    "    values_mania = [wartosci[np.argmax(kwalifikator(i))] for i in df2[\"yms_sum\"].values]\n",
    "    mania = {i : [k for k, l in enumerate(values_mania) if l == i] for i in wartosci}\n",
    "    wynik = {\"depression\":{}, \"mania\" : {}}\n",
    "    for key, indexes in depression.items():\n",
    "        wynik[\"depression\"][key] = dict(Counter([values[i] for i in indexes]))\n",
    "        leng= sum(list(wynik[\"depression\"][key].values()))\n",
    "        wynik[\"depression\"][key] = {key: wartosci2[np.argmax(kwantyfikator_pacj(value/leng))] for key, value in wynik[\"depression\"][key].items()}\n",
    "    for key, indexes in mania.items():\n",
    "        wynik[\"mania\"][key] = dict(Counter([values[i] for i in indexes]))\n",
    "        leng= sum(list(wynik[\"mania\"][key].values()))\n",
    "        wynik[\"mania\"][key] = {key: wartosci2[np.argmax(kwantyfikator_pacj(value/leng))] for key, value in wynik[\"mania\"][key].items()}\n",
    "    for key,value in wynik.items():\n",
    "        for key2, value2 in value.items():            \n",
    "            [zdania.append((\"For the {} of people with {} level of {} symptoms, {} is {}.\")\\\n",
    "                           .format(value3,key2,key,nazwa_parametru,key3)) for key3, value3 in value2.items()]\n",
    "            \n",
    "    final_df = pd.DataFrame(columns = [\"sentence\",\"degree_of_truth\", \"degree_of_support\", \"degree_of_focus\"])    \n",
    "    for sentence in zdania:\n",
    "        d = degree_of_truth(sentence,data,norm=tnorm,ls2=True)\n",
    "        e = degree_of_support(sentence,data,norm=tnorm,ls2=True)\n",
    "        f = degree_of_focus(sentence,data,norm=tnorm,ls2=True)\n",
    "        final_df = final_df.append({\"sentence\":sentence,\"degree_of_truth\":d, \"degree_of_support\":e, \"degree_of_focus\":f},\n",
    "                              ignore_index = True)\n",
    "                               \n",
    "                \n",
    "    return final_df"
   ]
  },
  {
   "cell_type": "code",
   "execution_count": null,
   "metadata": {},
   "outputs": [],
   "source": []
  },
  {
   "cell_type": "markdown",
   "metadata": {},
   "source": [
    "### Utworzenie  wszystkich możliwych podsumowań lingwistycznych dla 10 wybranych zmiennych i zapisanie do pliku 100 najbardziej prawdziwych "
   ]
  },
  {
   "cell_type": "code",
   "execution_count": 28,
   "metadata": {},
   "outputs": [],
   "source": [
    "wybrane_parametry = ['context_no_day_incoming_calls', 'context_avg_day_duration_incoming',\n",
    "       'context_stddev_duration_incoming', 'context_no_day_outgoing_calls',\n",
    "       'context_avg_day_duration_outgoing', 'context_stddev_duration_outgoing',\n",
    "       'context_no_nottakencalls', 'context_no_sms', 'context_avg_len_sms',\n",
    "       'context_no_calls']"
   ]
  },
  {
   "cell_type": "code",
   "execution_count": 34,
   "metadata": {},
   "outputs": [],
   "source": [
    "ramka = pd.DataFrame()\n",
    "for zmienna in wybrane_parametry:\n",
    "    zdania = generate_short_linguistic_summaries(zmienna,df, podmiot_podsumowania = None,\n",
    "                                        klasyfikator_pacj = klasyfikator2, klasyfikator_wsk = klasyfikator)\n",
    "    ramka = pd.concat([ramka, zdania])\n",
    "    \n",
    "ramka2 = pd.DataFrame()\n",
    "\n",
    "for zmienna in wybrane_parametry:\n",
    "    zdania = generate_extended_linguistic_summaries(zmienna,df, podmiot_podsumowania = None,tnorm=\"min\",\n",
    "                                          kwantyfikator_pacj = klasyfikator2, kwantyfikator_wsk = klasyfikator,\n",
    "                                          kwalifikator = klasyfikator )\n",
    "    ramka2 = pd.concat([ramka2, zdania])"
   ]
  },
  {
   "cell_type": "code",
   "execution_count": 35,
   "metadata": {},
   "outputs": [],
   "source": [
    "ramka2=ramka2[['sentence', 'degree_of_truth', 'degree_of_support']]\n",
    "ramka_ostateczna = pd.concat([ramka,ramka2])\n",
    "zdania_do_csv = ramka_ostateczna.sort_values('degree_of_truth', ascending = False).head(100)['sentence']\n",
    "zdania_do_csv.to_csv(\"selected_summaries.csv\", index=False)"
   ]
  },
  {
   "cell_type": "markdown",
   "metadata": {},
   "source": [
    "### . Funkcje pomocnicze"
   ]
  },
  {
   "cell_type": "code",
   "execution_count": 3,
   "metadata": {},
   "outputs": [],
   "source": [
    "def klasyfikator(x):\n",
    "    universe = np.arange(0,1.01,0.01)\n",
    "    low = fuzz.trimf(universe,[0,0,0.5])\n",
    "    medium = fuzz.trimf(universe,[0,0.5,1])\n",
    "    high = fuzz.trimf(universe,[0.51,1,1])\n",
    "    return [fuzz.interp_membership(universe,i,x) for i in [low,medium,high]] "
   ]
  },
  {
   "cell_type": "code",
   "execution_count": 4,
   "metadata": {},
   "outputs": [],
   "source": [
    "def klasyfikator2(x):\n",
    "    universe = np.arange(0,1.01,0.01)\n",
    "    minority = fuzz.trimf(universe,[0,0,0.5])\n",
    "    half = fuzz.trimf(universe,[0.45,0.5,0.55])\n",
    "    majority = fuzz.trimf(universe,[0.51,1,1])\n",
    "    return [fuzz.interp_membership(universe,i,x) for i in [minority,half,majority]] "
   ]
  },
  {
   "cell_type": "code",
   "execution_count": 5,
   "metadata": {},
   "outputs": [],
   "source": [
    "def norma(x1,x2,how=\"min\"):\n",
    "    if how == \"min\":\n",
    "        return min(x1,x2)\n",
    "    elif how == \"luk\":\n",
    "        return max(0,x1+x2-1)"
   ]
  },
  {
   "cell_type": "code",
   "execution_count": 6,
   "metadata": {},
   "outputs": [],
   "source": [
    "def parse_sentence(sentence, ls2=False):\n",
    "    sentence = sentence.split(\" \")\n",
    "    if ls2:\n",
    "        result ={\"quantity11\":sentence[6],\"state\":sentence[9],\"quantity2\":sentence[2], \"feature\":sentence[11],\n",
    "                \"quantity12\":sentence[13][:-1]}\n",
    "    else:\n",
    "        result = {\"quantity2\": sentence[2], \"feature\":sentence[5],\"quantity11\":sentence[7][:-1]}\n",
    "    return result"
   ]
  },
  {
   "cell_type": "code",
   "execution_count": 7,
   "metadata": {},
   "outputs": [],
   "source": [
    "def degree_of_truth(sentence,data,norm=\"min\",ls2=False):\n",
    "    res = parse_sentence(sentence,ls2=ls2)\n",
    "    quantity = [\"low\",\"medium\",\"high\"]\n",
    "    quantity2 = [\"minority\",\"half\",\"majority\"]\n",
    "    obs = data[res[\"feature\"]]\n",
    "    if ls2:\n",
    "        translate = {\"mania\":\"yms_sum\",\"depression\":\"hamd_sum\"}\n",
    "        state = data[translate[res[\"state\"]]]\n",
    "        z = np.sum([norma(klasyfikator(o)[quantity.index(res[\"quantity11\"])], \n",
    "                         klasyfikator(p)[quantity.index(res[\"quantity12\"])], how =norm) for o, p in zip(state,obs)])\n",
    "        z2 = np.sum([klasyfikator(o)[quantity.index(res[\"quantity11\"])] for o in state])\n",
    "        q = klasyfikator(z/z2)[quantity2.index(res[\"quantity2\"])]\n",
    "    else:\n",
    "        q = klasyfikator(np.mean([klasyfikator2(o)[quantity.index(res[\"quantity11\"])] for o in obs]))\\\n",
    "            [quantity2.index(res[\"quantity2\"])]\n",
    "    return q"
   ]
  },
  {
   "cell_type": "code",
   "execution_count": 8,
   "metadata": {},
   "outputs": [],
   "source": [
    "def degree_of_support(sentence,data,norm=\"min\",ls2=False):\n",
    "    res = parse_sentence(sentence,ls2=ls2)\n",
    "    quantity = [\"low\",\"medium\",\"high\"]\n",
    "    quantity2 = [\"minority\",\"half\",\"majority\"]\n",
    "    obs = data[res[\"feature\"]]\n",
    "    if ls2:\n",
    "        translate = {\"mania\":\"yms_sum\",\"depression\":\"hamd_sum\"}\n",
    "        state = data[translate[res[\"state\"]]]\n",
    "        q1 = [klasyfikator2(o)[quantity.index(res[\"quantity11\"])] for o in state]\n",
    "        q2 = [klasyfikator2(p)[quantity.index(res[\"quantity12\"])] for p in obs]\n",
    "        for n, i in enumerate(q1):\n",
    "            if i > 0:\n",
    "                q1[n] = 1.0\n",
    "        for n, i in enumerate(q2):\n",
    "            if i > 0:\n",
    "                q2[n] = 1.0\n",
    "        q = np.mean(norma(q1,q2,how = norm))\n",
    "    else:\n",
    "        q1 = [klasyfikator2(o)[quantity.index(res[\"quantity11\"])] for o in obs]\n",
    "        q = sum(i > 0 for i in q1)/len(q1)\n",
    "    return q"
   ]
  },
  {
   "cell_type": "code",
   "execution_count": 33,
   "metadata": {},
   "outputs": [],
   "source": [
    "def degree_of_focus(sentence,data,norm=\"min\",ls2=False):\n",
    "    res = parse_sentence(sentence,ls2=ls2)\n",
    "    quantity = [\"low\",\"medium\",\"high\"]\n",
    "    quantity2 = [\"minority\",\"half\",\"majority\"]\n",
    "    obs = data[res[\"feature\"]]\n",
    "    if ls2:\n",
    "        translate = {\"mania\":\"yms_sum\",\"depression\":\"hamd_sum\"}\n",
    "        state = data[translate[res[\"state\"]]]\n",
    "        q = np.mean([klasyfikator(o)[quantity.index(res[\"quantity11\"])] for o in state])\n",
    "    else:\n",
    "        q = 'NaN'\n",
    "    return q"
   ]
  },
  {
   "cell_type": "code",
   "execution_count": null,
   "metadata": {},
   "outputs": [],
   "source": []
  },
  {
   "cell_type": "code",
   "execution_count": null,
   "metadata": {},
   "outputs": [],
   "source": []
  }
 ],
 "metadata": {
  "kernelspec": {
   "display_name": "Python 3",
   "language": "python",
   "name": "python3"
  },
  "language_info": {
   "codemirror_mode": {
    "name": "ipython",
    "version": 3
   },
   "file_extension": ".py",
   "mimetype": "text/x-python",
   "name": "python",
   "nbconvert_exporter": "python",
   "pygments_lexer": "ipython3",
   "version": "3.7.3"
  }
 },
 "nbformat": 4,
 "nbformat_minor": 2
}
